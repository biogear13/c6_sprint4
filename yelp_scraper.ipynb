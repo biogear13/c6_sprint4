{
 "cells": [
  {
   "cell_type": "code",
   "execution_count": 5,
   "id": "valid-century",
   "metadata": {},
   "outputs": [],
   "source": [
    "import requests\n",
    "from bs4 import BeautifulSoup\n",
    "import json\n",
    "url = 'https://api.yelp.com/v3/businesses/search'\n",
    "api_key = '_FR0iWIOJqvTHeXAcZAw4pdwj-5hYUY93twRyvFmsWxv1xB6F_ZeaBuHL_mF-XA7Oy7Id6qL6HrBdopty3g2YrwyCw29TuiujqZILw88XUJfVElVReKHYoZzHSE-YHYx'\n",
    "def get_business(location, term, api_key):\n",
    "    headers = {'Authorization':'Bearer %s' % api_key}\n",
    "    data = []\n",
    "    for offset in range(0, 1000, 50):\n",
    "        params = {\n",
    "            'limit' : 50,\n",
    "            'location': location.replace(' ', '+'),\n",
    "            'term': term.replace(' ', '+'),\n",
    "            'offset': offset\n",
    "        }\n",
    "        response = requests.get(url, headers=headers, params = params)\n",
    "        if response.status_code == 200:\n",
    "            data += response.json()['businesses']\n",
    "        elif response.status_code == 400:\n",
    "            print('400 Bad Request')\n",
    "            break\n",
    "        return data"
   ]
  },
  {
   "cell_type": "code",
   "execution_count": 8,
   "id": "favorite-specialist",
   "metadata": {},
   "outputs": [],
   "source": [
    "hospitals = get_business('manila', 'hospital', api_key)"
   ]
  },
  {
   "cell_type": "code",
   "execution_count": 9,
   "id": "improved-refrigerator",
   "metadata": {},
   "outputs": [
    {
     "data": {
      "text/plain": [
       "50"
      ]
     },
     "execution_count": 9,
     "metadata": {},
     "output_type": "execute_result"
    }
   ],
   "source": [
    "len(hospitals)"
   ]
  }
 ],
 "metadata": {
  "kernelspec": {
   "display_name": "Python 3",
   "language": "python",
   "name": "python3"
  },
  "language_info": {
   "codemirror_mode": {
    "name": "ipython",
    "version": 3
   },
   "file_extension": ".py",
   "mimetype": "text/x-python",
   "name": "python",
   "nbconvert_exporter": "python",
   "pygments_lexer": "ipython3",
   "version": "3.8.5"
  }
 },
 "nbformat": 4,
 "nbformat_minor": 5
}
